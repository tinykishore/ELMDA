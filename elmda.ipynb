{
 "cells": [
  {
   "cell_type": "markdown",
   "metadata": {},
   "source": [
    "# ELMDA\n",
    "\n",
    "#### An ensemble learning framework to reveal the potential associations between miRNAs and diseases\n",
    "\n",
    "[GitHub Repository Link](https://github.com/Changlong2020/ELMDA)\n",
    "\n",
    "###### Try printing every block\n",
    "\n",
    "---"
   ]
  },
  {
   "cell_type": "markdown",
   "metadata": {},
   "source": [
    "### Step 0: Import all the necessary libraries\n",
    "\n",
    "We set up the environment of binary classification task. Here we import plotting tools, metrics and machine learning models.\n",
    "\n"
   ]
  },
  {
   "cell_type": "code",
   "execution_count": 2,
   "metadata": {
    "execution": {
     "iopub.execute_input": "2023-11-01T16:27:38.064723Z",
     "iopub.status.busy": "2023-11-01T16:27:38.064313Z",
     "iopub.status.idle": "2023-11-01T16:27:39.848246Z",
     "shell.execute_reply": "2023-11-01T16:27:39.847216Z",
     "shell.execute_reply.started": "2023-11-01T16:27:38.064691Z"
    },
    "trusted": true
   },
   "outputs": [],
   "source": [
    "# Libraries for plotting\n",
    "import matplotlib.pyplot as plt\n",
    "\n",
    "# Libraries for Metrics\n",
    "from sklearn.metrics import auc, roc_curve\n",
    "import numpy as np\n",
    "from sklearn import metrics\n",
    "from sklearn.metrics import precision_score, recall_score, f1_score\n",
    "from sklearn.metrics import precision_recall_curve\n",
    "\n",
    "# Libraries for Machine Learning Algorithms\n",
    "from xgboost import XGBClassifier\n",
    "from sklearn.ensemble import RandomForestClassifier, GradientBoostingClassifier\n",
    "from sklearn.svm import SVC\n",
    "from sklearn.ensemble import VotingClassifier\n",
    "\n",
    "# Libraries for Data Manipulation\n",
    "from sklearn.utils import shuffle\n",
    "from sklearn.model_selection import KFold"
   ]
  },
  {
   "cell_type": "markdown",
   "metadata": {},
   "source": [
    "### Step 0a: Set Plot Visualization (OPTIONAL)\n",
    "\n",
    "We need plots. To make them look better we customise the visuals of the plot. We change the style or appearance and set up the size and quality of our plots\n",
    "\n",
    "> In GitHub code, `_classic_test` file was missing. So we recommend using `ggplot`, `ggplot2` or `seaborn` instead. Be careful with `seaborn` because it is deprecated and is available in separate module `import seaborn`"
   ]
  },
  {
   "cell_type": "code",
   "execution_count": 3,
   "metadata": {
    "execution": {
     "iopub.execute_input": "2023-11-01T16:27:44.535223Z",
     "iopub.status.busy": "2023-11-01T16:27:44.534619Z",
     "iopub.status.idle": "2023-11-01T16:27:44.573054Z",
     "shell.execute_reply": "2023-11-01T16:27:44.571772Z",
     "shell.execute_reply.started": "2023-11-01T16:27:44.535188Z"
    },
    "trusted": true
   },
   "outputs": [
    {
     "data": {
      "text/plain": [
       "<Figure size 2400x1500 with 0 Axes>"
      ]
     },
     "execution_count": 3,
     "metadata": {},
     "output_type": "execute_result"
    },
    {
     "data": {
      "text/plain": [
       "<Figure size 2400x1500 with 0 Axes>"
      ]
     },
     "metadata": {},
     "output_type": "display_data"
    }
   ],
   "source": [
    "# plt.style.use('_classic_test')\n",
    "plt.style.use('ggplot')\n",
    "plt.figure(dpi=300,figsize=(8,5))"
   ]
  },
  {
   "cell_type": "markdown",
   "metadata": {},
   "source": [
    "### Step 1: Import Dataset and Preprocess\n",
    "\n",
    "We import dataset from a file named `trainsample.npz` and store that in a variable `data`. After that we extract `X` and `y` from the dataset (see dataset for more info). At last, we replace all the `NaN` values with 0.\n",
    "\n",
    "---\n",
    "\n",
    "##### **What is `.npz` file?**\n",
    "> The `.npz` file format is used to store one or more NumPy arrays in a single file. The `.npz` format is a convenient way to save and load NumPy arrays, especially when you have multiple arrays that you want to store together. Here's how you can save as `.npz` and load from a `.npz` file:\n",
    "``` python\n",
    "import numpy as np\n",
    "x = np.array([1, 2, 3])\n",
    "y = np.array([4, 5, 6])\n",
    "> # Saving as .npz\n",
    "np.savez(\"my_data.npz\", x=x, y=y)\n",
    "> # Loading from .npz\n",
    "data = np.load(\"my_data.npz\")\n",
    "x = data[\"x\"]\n",
    "y = data[\"y\"]\n",
    "```"
   ]
  },
  {
   "cell_type": "code",
   "execution_count": 5,
   "metadata": {
    "execution": {
     "iopub.execute_input": "2023-11-01T16:28:15.017875Z",
     "iopub.status.busy": "2023-11-01T16:28:15.017482Z",
     "iopub.status.idle": "2023-11-01T16:28:15.068894Z",
     "shell.execute_reply": "2023-11-01T16:28:15.067468Z",
     "shell.execute_reply.started": "2023-11-01T16:28:15.017847Z"
    },
    "trusted": true
   },
   "outputs": [
    {
     "name": "stdout",
     "output_type": "stream",
     "text": [
      "[9.55601859e-01 5.90420584e-01 1.01731618e-01 3.41028509e-01\n",
      " 5.21655693e-01 4.21074615e-01 1.51214161e-01 5.57453947e-01\n",
      " 4.32280971e-01 8.42331169e-01 3.75246142e-01 5.80846162e-01\n",
      " 4.03388442e-01 1.78770638e-01 2.14902805e-01 6.59382622e-01\n",
      " 1.93554679e-01 5.15683778e-01 1.75338788e-01 6.19066436e-01\n",
      " 2.86238052e-01 5.61208809e-01 4.10218178e-01 3.92199787e-01\n",
      " 4.42925171e-01 4.66477959e-01 4.72908517e-01 3.20681606e-01\n",
      " 3.35984483e-01 5.15442656e-01 4.01600870e-01 4.38336493e-01\n",
      " 4.21391389e-01 2.72776244e-01 3.86651472e-01 4.19855709e-01\n",
      " 4.99482071e-01 4.53347371e-01 4.11785223e-01 4.67805119e-01\n",
      " 4.04932587e-01 4.26735358e-01 3.94203287e-01 4.01111940e-01\n",
      " 4.55579537e-01 4.01870537e-01 3.19837582e-01 4.55221640e-01\n",
      " 5.10846951e-01 4.24008288e-01 3.78239642e-01 4.58384342e-01\n",
      " 4.87280921e-01 4.83994995e-01 3.19675081e-01 4.65222364e-01\n",
      " 4.73688211e-01 4.35607266e-01 4.81245151e-01 4.22914049e-01\n",
      " 5.00444055e-01 4.61515671e-01 4.11150462e-01 4.07592558e-01\n",
      " 4.70843397e-01 4.63666966e-01 4.17798147e-01 4.72167778e-01\n",
      " 5.20494123e-01 4.94881860e-01 4.03326807e-01 5.14031932e-01\n",
      " 3.72228629e-01 5.35094366e-01 4.98455346e-01 3.53371144e-01\n",
      " 4.98904214e-01 3.78526820e-01 4.86700671e-01 4.44229025e-01\n",
      " 2.49173073e-02 5.87606918e-01 3.67599790e-01 2.99156539e-01\n",
      " 2.65437781e-01 4.56800747e-01 4.22058110e-01 2.15206021e-01\n",
      " 4.82470766e-01 3.15868582e-01 3.95643785e-01 2.81927657e-01\n",
      " 4.69754464e-01 3.89003914e-01 4.28860544e-01 3.07054306e-01\n",
      " 5.06759663e-01 4.14778887e-01 4.77675835e-01 4.07766338e-01\n",
      " 3.63002348e-01 3.88507356e-01 5.21718358e-01 2.21336523e-01\n",
      " 4.41301869e-01 3.94997157e-01 4.49353588e-01 4.99715956e-01\n",
      " 3.44229831e-01 4.22285511e-01 4.62028447e-01 3.12620379e-01\n",
      " 4.74047371e-01 6.82556477e-01 3.29111921e-02 4.19118342e-01\n",
      " 6.28261256e-01 3.04164741e-01 4.17528367e-01 8.08075493e-01\n",
      " 6.66629077e-01 4.61677388e-01 3.34005284e-01 1.42927883e-01\n",
      " 2.54929452e-01 4.76564481e-01 4.90594460e-01 4.88182792e-01\n",
      " 4.53519920e-01 2.68573433e-01 4.62226270e-01 4.42822778e-01\n",
      " 3.08266053e-01 3.57803735e-01 4.46894763e-01 3.99760654e-01\n",
      " 4.92025909e-01 6.72501810e-01 4.49094489e-01 3.81946985e-01\n",
      " 4.60983152e-01 2.98825172e-01 5.28373033e-01 2.33272098e-01\n",
      " 5.72284226e-01 2.69811718e-01 4.55231664e-01 6.13896485e-01\n",
      " 2.54649918e-01 4.19268409e-01 2.95012409e-01 9.13363168e-01\n",
      " 8.82945929e-02 2.46198299e-01 7.64474767e-01 7.71257051e-01\n",
      " 5.89141735e-01 7.28588293e-01 2.59048180e-01 9.15794521e-01\n",
      " 2.43370696e-01 1.72973044e-01 3.14669577e-01 5.30897954e-01\n",
      " 1.76585248e-01 5.91317352e-01 6.82146391e-01 4.78106103e-01\n",
      " 4.29102325e-01 1.54469104e-01 4.42091545e-01 6.64081995e-01\n",
      " 6.55667528e-02 4.24801332e-01 4.05518670e-01 4.10902373e-01\n",
      " 2.05767319e-01 4.25004909e-01 2.35607873e-01 4.80053710e-01\n",
      " 2.17140443e-01 2.67870595e-01 5.13613970e-01 5.75760788e-01\n",
      " 4.53541704e-01 4.54676692e-01 3.37092620e-01 4.01675290e-01\n",
      " 6.63373053e-01 5.81798574e-01 5.23223990e-01 2.44831024e-01\n",
      " 4.05990038e-01 4.31344747e-01 3.90969659e-01 5.93215758e-01\n",
      " 4.59845850e-01 4.71247780e-01 1.58741126e-01 4.55141477e-01\n",
      " 4.55141477e-01 9.90496376e-01 6.99713349e-01 9.18809388e-01\n",
      " 1.00000000e+00 1.00000000e+00 1.00000000e+00 0.00000000e+00\n",
      " 5.12933245e-04 6.72810674e-02 2.33755128e-01 1.28143301e-01\n",
      " 3.11196966e-02 2.31054227e-02 2.13362963e-02 5.28541226e-04]\n"
     ]
    }
   ],
   "source": [
    "# Load Data\n",
    "data = np.load('trainSamples.npz')\n",
    "X = data['X']\n",
    "y = data['y']\n",
    "\n",
    "# Replace NaN by 0\n",
    "X[np.isnan(X)] = 0\n",
    "\n",
    "print(X[0])"
   ]
  },
  {
   "cell_type": "markdown",
   "metadata": {},
   "source": [
    "### Step 2: Building the Classifiers\n",
    "\n",
    "First, we need to randomize the `X` and `y`. Then build 4 classifiers as mentioned below\n",
    "\n",
    "#### **Classifiers**\n",
    "`classifier_1_svc` : is a Support Vector Classifier (SVC) with a specified value of the regularization parameter `C` and the ability to output class probabilities (probability=True)\n",
    "\n",
    "`classifier_2_gb` : is a Gradient Boosting Classifier with 500 estimators (trees) and a learning rate of 0.1\n",
    "\n",
    "`classifier_3_rf` : is a Random Forest Classifier with 800 estimators\n",
    "\n",
    "`classifier_4_xgb` : is an XGBoost Classifier with 300 estimators, a learning rate of 0.1, and a random seed (random_state=1)"
   ]
  },
  {
   "cell_type": "code",
   "execution_count": 13,
   "metadata": {
    "execution": {
     "iopub.execute_input": "2023-11-01T14:22:57.707076Z",
     "iopub.status.busy": "2023-11-01T14:22:57.706306Z",
     "iopub.status.idle": "2023-11-01T14:22:57.717965Z",
     "shell.execute_reply": "2023-11-01T14:22:57.717043Z",
     "shell.execute_reply.started": "2023-11-01T14:22:57.707050Z"
    },
    "trusted": true
   },
   "outputs": [],
   "source": [
    "# Shuffle The X and y\n",
    "X, y = shuffle(X, y, random_state=1)\n",
    "\n",
    "# Create first classifier (classifier_1_svc)\n",
    "classifier_1_svc = SVC(\n",
    "    C = 5.0, \n",
    "    probability=True\n",
    ")\n",
    "\n",
    "# Create second classifier (classifier_2_gb)\n",
    "classifier_2_gb = GradientBoostingClassifier(\n",
    "    n_estimators=500,\n",
    "    learning_rate=0.1\n",
    ")\n",
    "\n",
    "# Create third classifier (classifier_1_svc)\n",
    "classifier_3_rf = RandomForestClassifier(\n",
    "    n_estimators=800,\n",
    "    random_state=1\n",
    ")\n",
    "\n",
    "# Create fourth classifier (classifier_4_xgb)\n",
    "classifier_4_xgb = XGBClassifier(\n",
    "    n_estimators=300, \n",
    "    learning_rate=0.1, \n",
    "    random_state=1\n",
    ")"
   ]
  },
  {
   "cell_type": "markdown",
   "metadata": {},
   "source": [
    "### Step 3: Building the Ensemble Classifier Model\n",
    "\n",
    "We create an ensemble model using `VotingClassifier`. This ensemble model combines the four classifier we built earlier."
   ]
  },
  {
   "cell_type": "code",
   "execution_count": 14,
   "metadata": {
    "execution": {
     "iopub.execute_input": "2023-11-01T14:22:57.719042Z",
     "iopub.status.busy": "2023-11-01T14:22:57.718786Z",
     "iopub.status.idle": "2023-11-01T14:22:57.728027Z",
     "shell.execute_reply": "2023-11-01T14:22:57.727428Z",
     "shell.execute_reply.started": "2023-11-01T14:22:57.719021Z"
    },
    "trusted": true
   },
   "outputs": [],
   "source": [
    "ensemble_classifier = VotingClassifier(\n",
    "    estimators=[\n",
    "        ('svm', classifier_1_svc),\n",
    "        ('gb', classifier_2_gb),\n",
    "        ('rf', classifier_3_rf),\n",
    "        ('xgboost', classifier_4_xgb),\n",
    "    ],    \n",
    "    voting='soft'\n",
    ")"
   ]
  },
  {
   "cell_type": "markdown",
   "metadata": {},
   "source": [
    "### Step 4: Building Cross Validation Object\n",
    "\n",
    "We build a `kFold` object which is used for cross validation. It is used to split the dataset into training and testing subsets in a repeated manner, allowing us to train and evaluate our model on different folds (subsets) of the data.\n",
    "\n",
    "Basically it folds our dataset into 5 parts and generates 5 different ways to split the data into training and testing sets. We will use it later."
   ]
  },
  {
   "cell_type": "code",
   "execution_count": 15,
   "metadata": {
    "execution": {
     "iopub.execute_input": "2023-11-01T14:22:57.729877Z",
     "iopub.status.busy": "2023-11-01T14:22:57.728873Z",
     "iopub.status.idle": "2023-11-01T14:22:57.738919Z",
     "shell.execute_reply": "2023-11-01T14:22:57.738246Z",
     "shell.execute_reply.started": "2023-11-01T14:22:57.729852Z"
    },
    "trusted": true
   },
   "outputs": [],
   "source": [
    "folded_dataset = KFold(\n",
    "    n_splits=5\n",
    ")"
   ]
  },
  {
   "cell_type": "markdown",
   "metadata": {},
   "source": [
    "### Step 5: Defining Variables to Store Outputs\n",
    "\n",
    "We need the following variables:\n",
    "\n",
    "- `auc_list` :  This is a list that stores the Area Under the ROC Curve (AUC) values. AUC is a metric used to assess the performance of a binary classification model. It represents the area under the Receiver Operating Characteristic (ROC) curve, which plots the True Positive Rate (TPR) against the False Positive Rate (FPR) at different classification thresholds. A higher AUC value generally indicates better model performance.\n",
    "\n",
    "- `precision_list` : This is a list that stores precision values. Precision is a metric that measures the accuracy of positive predictions made by the model. It is the ratio of true positives to the sum of true positives and false positives.\n",
    "\n",
    "- `recall_list` : This list stores recall values. Recall, also known as True Positive Rate or Sensitivity, measures the ability of the model to correctly identify positive instances. It is the ratio of true positives to the sum of true positives and false negatives.\n",
    "\n",
    "- `f1_list` : This list stores F1-score values. The F1-score is the harmonic mean of precision and recall. It provides a balance between precision and recall and is particularly useful when there is an uneven class distribution in the data.\n",
    "\n",
    "- `aupr_list` : This list stores the Area Under the Precision-Recall Curve (AUPR) values. AUPR is another metric used to evaluate the performance of binary classification models. It represents the area under the Precision-Recall curve, which plots precision against recall at different classification thresholds. A higher AUPR value generally indicates better model performance, especially when dealing with imbalanced datasets.\n",
    "\n",
    "- `fpr` and `tpr` :  These lists are used to store data related to the False Positive Rate (FPR) and True Positive Rate (TPR) for plotting the ROC curve. These values are typically used for visualizing the ROC curve in the code.\n",
    "\n",
    "These lists are populated during the cross-validation loop, where the model's predictions are evaluated on different subsets of the data, and the performance metrics are computed for each fold of the cross-validation. The resulting lists allow you to analyze and report the model's performance across different folds and assess its overall generalization capabilities."
   ]
  },
  {
   "cell_type": "code",
   "execution_count": 16,
   "metadata": {
    "execution": {
     "iopub.execute_input": "2023-11-01T14:22:57.741049Z",
     "iopub.status.busy": "2023-11-01T14:22:57.739939Z",
     "iopub.status.idle": "2023-11-01T14:22:57.751657Z",
     "shell.execute_reply": "2023-11-01T14:22:57.750901Z",
     "shell.execute_reply.started": "2023-11-01T14:22:57.741023Z"
    },
    "trusted": true
   },
   "outputs": [],
   "source": [
    "auc_list = []\n",
    "precision_list = []\n",
    "recoil_list = []\n",
    "f1_list = []\n",
    "aupr_list = []\n",
    "fpr = []\n",
    "tpr = []"
   ]
  },
  {
   "cell_type": "markdown",
   "metadata": {},
   "source": [
    "### Step 6: Creating Subplot Object (OPTIONAL)\n",
    "We are creating a single subplot in a 1x1 grid. By using this subplot, we can then plot data on it using functions like plot, scatter, or other Matplotlib plotting functions. This subplot object, ax, allows us to customize and manipulate the properties of this specific plot, such as adding labels, legends, and titles, setting axis limits, and so on.\n"
   ]
  },
  {
   "cell_type": "code",
   "execution_count": 17,
   "metadata": {
    "execution": {
     "iopub.execute_input": "2023-11-01T14:22:57.753349Z",
     "iopub.status.busy": "2023-11-01T14:22:57.752614Z",
     "iopub.status.idle": "2023-11-01T14:22:57.926153Z",
     "shell.execute_reply": "2023-11-01T14:22:57.925104Z",
     "shell.execute_reply.started": "2023-11-01T14:22:57.753324Z"
    },
    "trusted": true
   },
   "outputs": [
    {
     "data": {
      "image/png": "[encoded data removed]",
      "text/plain": [
       "<Figure size 640x480 with 1 Axes>"
      ]
     },
     "metadata": {},
     "output_type": "display_data"
    }
   ],
   "source": [
    "ax = plt.subplot(1,1,1)"
   ]
  },
  {
   "cell_type": "markdown",
   "metadata": {},
   "source": [
    "### Step 7: Training, Testing and Validating\n",
    "\n",
    "Here we are performing the main workload of ELMDA."
   ]
  },
  {
   "cell_type": "code",
   "execution_count": 18,
   "metadata": {
    "execution": {
     "iopub.execute_input": "2023-11-01T14:22:57.928671Z",
     "iopub.status.busy": "2023-11-01T14:22:57.928400Z",
     "iopub.status.idle": "2023-11-01T14:42:48.230410Z",
     "shell.execute_reply": "2023-11-01T14:42:48.229328Z",
     "shell.execute_reply.started": "2023-11-01T14:22:57.928646Z"
    },
    "trusted": true
   },
   "outputs": [
    {
     "name": "stdout",
     "output_type": "stream",
     "text": [
      "AUC:  [0.9224882325607867, 0.921606756922073, 0.9298702016017675, 0.9206576335284539, 0.9200772384614208]\n",
      "AUPR:  [0.9199813702207394, 0.925057498881095, 0.9261053407103396, 0.9194827489232855, 0.9184336618017197]\n",
      "Precision:  [0.8700564971751412, 0.8366606170598911, 0.8537258509659613, 0.8325832583258326, 0.8464317976513098]\n",
      "Recall:  [0.846929422548121, 0.8412408759124088, 0.8713615023474178, 0.8509659613615456, 0.8588450962419798]\n",
      "F1:  [0.8583372039015328, 0.8389444949954504, 0.8624535315985129, 0.8416742493175614, 0.8525932666060055]\n"
     ]
    }
   ],
   "source": [
    "for i, (train_index, test_index) in enumerate(folded_dataset.split(X, y)):\n",
    "    # Populating Train set\n",
    "    X_train = X[train_index]\n",
    "    y_train = y[train_index]\n",
    "\n",
    "    # Populating Test set\n",
    "    X_test = X[test_index]\n",
    "    y_test = y[test_index]\n",
    "\n",
    "    # Fitting the model into the training set\n",
    "    ensemble_classifier.fit(X_train, y_train)\n",
    "\n",
    "    # Predicting the values of the test set\n",
    "    # Here the probability value means the probability of the sample being positive\n",
    "    predict_value = ensemble_classifier.predict_proba(X_test)[:, 1]\n",
    "\n",
    "    # Calculating the Area Under Curve value and appending it to the list\n",
    "    _AUC = metrics.roc_auc_score(y_test, predict_value)\n",
    "    auc_list.append(_AUC)\n",
    "\n",
    "    # Calculating False Positive Rate, True Positive Rate and Threshold\n",
    "    # Thresholds are the values that are used to determine whether a sample is positive or negative\n",
    "    # Thresholds are not used in this code, but they are calculated here for completeness\n",
    "    # After calculating the FPR and TPR, they are appended to the list\n",
    "    _fpr, _tpr, _ignored_thresholds = roc_curve(y_test, predict_value)\n",
    "    fpr.append(_fpr)\n",
    "    tpr.append(_tpr)\n",
    "\n",
    "    # Plotting the ROC curve\n",
    "    #     ax.plot(\n",
    "    #         fpr,\n",
    "    #         tpr,\n",
    "    #         lw=0.8,\n",
    "    #         alpha=0.7,\n",
    "    #         label=f\"ROC Fold {i} (area={_AUC:.4f})\"\n",
    "    #     )\n",
    "    # This was error: setting an array element with a sequence.\n",
    "    \n",
    "    # Plotting the ROC curve\n",
    "    for _ in range(len(fpr)):\n",
    "        ax.plot(\n",
    "            fpr[i],\n",
    "            tpr[i],\n",
    "            lw=0.8,\n",
    "            alpha=0.7,\n",
    "            label=f\"ROC Fold {i} (area={auc_list[i]:.4f})\"\n",
    "        )\n",
    "        # END OF LOOP\n",
    "\n",
    "    # Calculating the Area Under the Precision-Recall Curve value and appending it to the list\n",
    "    # _ is ignored in this code.\n",
    "    precision, recall, _ignored = precision_recall_curve(y_test, predict_value)\n",
    "    _au_prc = auc(recall, precision)\n",
    "    aupr_list.append(_au_prc)\n",
    "\n",
    "    # Calculating Precision and appending it to the list\n",
    "    _precision = precision_score(y_test, predict_value.round())\n",
    "    precision_list.append(_precision)\n",
    "\n",
    "    # Calculating Recall and appending it to the list\n",
    "    _recall = recall_score(y_test, predict_value.round())\n",
    "    recoil_list.append(_recall)\n",
    "\n",
    "    # Calculating F1-score and appending it to the list\n",
    "    _f1_score = f1_score(y_test, predict_value.round())\n",
    "    f1_list.append(_f1_score)\n",
    "\n",
    "    # END OF FOR LOOP\n",
    "\n",
    "ax.axis(\n",
    "    [0, 1, 0, 1.05]\n",
    ")\n",
    "\n",
    "ax.legend(\n",
    "    loc='lower right',\n",
    "    fontsize=12\n",
    ")\n",
    "\n",
    "axins = ax.inset_axes((0.2, 0.45, 0.4, 0.3))\n",
    "\n",
    "for i in range(len(fpr)):\n",
    "    axins.plot(\n",
    "        fpr[i],\n",
    "        tpr[i],\n",
    "        lw = 0.8,\n",
    "        alpha = 0.7\n",
    "    )\n",
    "\n",
    "axins.axis(\n",
    "    [0.1, 0.35, 0.7, 0.9]\n",
    ")\n",
    "\n",
    "print(\"AUC: \", auc_list)\n",
    "print(\"AUPR: \", aupr_list)\n",
    "print(\"Precision: \", precision_list)\n",
    "print(\"Recall: \", recoil_list)\n",
    "print(\"F1: \", f1_list)"
   ]
  }
 ],
 "metadata": {
  "kernelspec": {
   "display_name": "Python 3",
   "language": "python",
   "name": "python3"
  },
  "language_info": {
   "codemirror_mode": {
    "name": "ipython",
    "version": 3
   },
   "file_extension": ".py",
   "mimetype": "text/x-python",
   "name": "python",
   "nbconvert_exporter": "python",
   "pygments_lexer": "ipython3",
   "version": "3.10.12"
  }
 },
 "nbformat": 4,
 "nbformat_minor": 4
}
